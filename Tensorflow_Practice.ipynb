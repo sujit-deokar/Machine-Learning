{
 "cells": [
  {
   "cell_type": "markdown",
   "metadata": {},
   "source": [
    "## Tensorflow"
   ]
  },
  {
   "cell_type": "markdown",
   "metadata": {},
   "source": [
    "#### Placeholders in Tensorflow"
   ]
  },
  {
   "cell_type": "code",
   "execution_count": 1,
   "metadata": {},
   "outputs": [
    {
     "name": "stderr",
     "output_type": "stream",
     "text": [
      "C:\\ProgramData\\Anaconda3\\lib\\site-packages\\h5py\\__init__.py:72: UserWarning: h5py is running against HDF5 1.10.2 when it was built against 1.10.3, this may cause problems\n",
      "  '{0}.{1}.{2}'.format(*version.hdf5_built_version_tuple)\n"
     ]
    }
   ],
   "source": [
    "import tensorflow as tf"
   ]
  },
  {
   "cell_type": "code",
   "execution_count": 2,
   "metadata": {},
   "outputs": [],
   "source": [
    "a = tf.placeholder('float')\n",
    "b = tf.placeholder('float')\n",
    "y = tf.multiply(a,b)"
   ]
  },
  {
   "cell_type": "code",
   "execution_count": 7,
   "metadata": {},
   "outputs": [
    {
     "name": "stdout",
     "output_type": "stream",
     "text": [
      "2.6\n"
     ]
    }
   ],
   "source": [
    "with tf.Session() as sess:\n",
    "    print(sess.run(y,feed_dict={a:2,b:1.3}))"
   ]
  },
  {
   "cell_type": "markdown",
   "metadata": {},
   "source": [
    "#### Tensorflow Constants"
   ]
  },
  {
   "cell_type": "code",
   "execution_count": 8,
   "metadata": {},
   "outputs": [
    {
     "name": "stdout",
     "output_type": "stream",
     "text": [
      "[[16]]\n"
     ]
    }
   ],
   "source": [
    "m1 = tf.constant([[2,4]])\n",
    "m2 = tf.constant([[2],\n",
    "                  [3]])\n",
    "dot_product = tf.matmul(m1,m2)\n",
    "\n",
    "with tf.Session() as sess:\n",
    "    print(sess.run(dot_product))"
   ]
  },
  {
   "cell_type": "markdown",
   "metadata": {},
   "source": [
    "PlaceHolder's executed separately"
   ]
  },
  {
   "cell_type": "code",
   "execution_count": 12,
   "metadata": {},
   "outputs": [
    {
     "name": "stdout",
     "output_type": "stream",
     "text": [
      "5.5\n",
      "[[11.]]\n"
     ]
    }
   ],
   "source": [
    "x1 = tf.placeholder(dtype=tf.float32,shape=None)\n",
    "x2 = tf.placeholder(dtype=tf.float32,shape=None)\n",
    "y1 = tf.add(x1,x2)\n",
    "\n",
    "x3 = tf.placeholder(dtype=tf.float32,shape=[1,2])\n",
    "x4 = tf.placeholder(dtype=tf.float32,shape=[2,1])\n",
    "y2 = tf.matmul(x3,x4)\n",
    "with tf.Session() as sess:\n",
    "    print(sess.run(y1,feed_dict={x1:2.3,x2:3.2}))\n",
    "    print(sess.run(y2,\n",
    "                  feed_dict={x3:[[1,2]],\n",
    "                            x4:[[3],[4]]\n",
    "                            }))"
   ]
  },
  {
   "cell_type": "code",
   "execution_count": 14,
   "metadata": {},
   "outputs": [
    {
     "name": "stdout",
     "output_type": "stream",
     "text": [
      "[6.5, array([[11.]], dtype=float32)]\n"
     ]
    }
   ],
   "source": [
    "x1 = tf.placeholder(dtype=tf.float32,shape=None)\n",
    "x2 = tf.placeholder(dtype=tf.float32,shape=None)\n",
    "y1 = tf.add(x1,x2)\n",
    "\n",
    "x3 = tf.placeholder(dtype=tf.float32,shape=[1,2])\n",
    "x4 = tf.placeholder(dtype=tf.float32,shape=[2,1])\n",
    "y2 = tf.matmul(x3,x4)\n",
    "with tf.Session() as sess:\n",
    "    print(sess.run([y1,y2],\n",
    "                  feed_dict={\n",
    "                      x1:2,x2:4.5,\n",
    "                      x3:[[1,2]],x4:[[3],[4]]\n",
    "                            }))"
   ]
  },
  {
   "cell_type": "markdown",
   "metadata": {},
   "source": [
    "#### Tensorflow Variables\n",
    "\n",
    "Variable, assignment and updating operation.\n"
   ]
  },
  {
   "cell_type": "code",
   "execution_count": 26,
   "metadata": {},
   "outputs": [
    {
     "name": "stdout",
     "output_type": "stream",
     "text": [
      "4\n",
      "4\n"
     ]
    }
   ],
   "source": [
    "var = tf.Variable(1)\n",
    "updated_var = tf.add(var,3)\n",
    "update_operation = tf.assign(var,updated_var)\n",
    "with tf.Session() as sess:\n",
    "    sess.run(tf.global_variables_initializer())\n",
    "    print(sess.run(update_operation))\n",
    "    print(sess.run(var))"
   ]
  },
  {
   "cell_type": "markdown",
   "metadata": {},
   "source": [
    "#### Tensor Activation\n",
    "\n",
    "Tanh, Sigmoid,ReLu,Softplus"
   ]
  },
  {
   "cell_type": "code",
   "execution_count": 27,
   "metadata": {},
   "outputs": [],
   "source": [
    "import matplotlib.pyplot as plt\n",
    "import numpy as np"
   ]
  },
  {
   "cell_type": "code",
   "execution_count": 31,
   "metadata": {},
   "outputs": [
    {
     "data": {
      "image/png": "[encoded data removed]",
      "text/plain": [
       "<Figure size 432x288 with 1 Axes>"
      ]
     },
     "metadata": {
      "needs_background": "light"
     },
     "output_type": "display_data"
    }
   ],
   "source": [
    "# genarate fake data\n",
    "x = np.linspace(-5,5,100)\n",
    "#print(x)\n",
    "plt.plot(x)\n",
    "plt.show()"
   ]
  },
  {
   "cell_type": "code",
   "execution_count": 37,
   "metadata": {},
   "outputs": [],
   "source": [
    "y_tanh = tf.nn.tanh(x)\n",
    "y_sig = tf.nn.sigmoid(x)\n",
    "y_relu = tf.nn.relu(x)\n",
    "y_soft = tf.nn.softplus(x)\n",
    "y_soft1 = tf.nn.softmax(x)"
   ]
  },
  {
   "cell_type": "code",
   "execution_count": null,
   "metadata": {},
   "outputs": [],
   "source": [
    "with tf.Session() as sess:\n",
    "    y_tanh = sess.run(y_tanh)"
   ]
  }
 ],
 "metadata": {
  "kernelspec": {
   "display_name": "Python 3",
   "language": "python",
   "name": "python3"
  },
  "language_info": {
   "codemirror_mode": {
    "name": "ipython",
    "version": 3
   },
   "file_extension": ".py",
   "mimetype": "text/x-python",
   "name": "python",
   "nbconvert_exporter": "python",
   "pygments_lexer": "ipython3",
   "version": "3.6.6"
  }
 },
 "nbformat": 4,
 "nbformat_minor": 2
}
