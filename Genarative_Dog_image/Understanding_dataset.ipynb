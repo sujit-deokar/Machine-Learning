{
 "cells": [
  {
   "cell_type": "code",
   "execution_count": 1,
   "metadata": {},
   "outputs": [],
   "source": [
    "import numpy as np\n",
    "import matplotlib.pyplot as plt\n",
    "from scipy.io import loadmat\n",
    "import glob\n",
    "import os"
   ]
  },
  {
   "cell_type": "code",
   "execution_count": 2,
   "metadata": {},
   "outputs": [
    {
     "name": "stdout",
     "output_type": "stream",
     "text": [
      "['test_list.mat', 'file_list.mat', 'train_list.mat']\n"
     ]
    }
   ],
   "source": [
    "data_label = []\n",
    "data_names = []\n",
    "for img in glob.glob(\"./lists/*.mat\"):\n",
    "    h,t = os.path.split(img)\n",
    "    data_names.append(t)\n",
    "    data_label.append(loadmat(img))\n",
    "    #data = pd.DataFrame(loadmat(img))\n",
    "print(data_names)"
   ]
  },
  {
   "cell_type": "code",
   "execution_count": 3,
   "metadata": {},
   "outputs": [
    {
     "data": {
      "text/plain": [
       "{'__header__': b'MATLAB 5.0 MAT-file, Platform: GLNXA64, Created on: Sun Oct  9 08:36:13 2011',\n",
       " '__version__': '1.0',\n",
       " '__globals__': [],\n",
       " 'file_list': array([[array(['n02085620-Chihuahua/n02085620_2650.jpg'], dtype='<U38')],\n",
       "        [array(['n02085620-Chihuahua/n02085620_4919.jpg'], dtype='<U38')],\n",
       "        [array(['n02085620-Chihuahua/n02085620_1765.jpg'], dtype='<U38')],\n",
       "        ...,\n",
       "        [array(['n02116738-African_hunting_dog/n02116738_3635.jpg'], dtype='<U48')],\n",
       "        [array(['n02116738-African_hunting_dog/n02116738_2988.jpg'], dtype='<U48')],\n",
       "        [array(['n02116738-African_hunting_dog/n02116738_6330.jpg'], dtype='<U48')]],\n",
       "       dtype=object),\n",
       " 'annotation_list': array([[array(['n02085620-Chihuahua/n02085620_2650'], dtype='<U34')],\n",
       "        [array(['n02085620-Chihuahua/n02085620_4919'], dtype='<U34')],\n",
       "        [array(['n02085620-Chihuahua/n02085620_1765'], dtype='<U34')],\n",
       "        ...,\n",
       "        [array(['n02116738-African_hunting_dog/n02116738_3635'], dtype='<U44')],\n",
       "        [array(['n02116738-African_hunting_dog/n02116738_2988'], dtype='<U44')],\n",
       "        [array(['n02116738-African_hunting_dog/n02116738_6330'], dtype='<U44')]],\n",
       "       dtype=object),\n",
       " 'labels': array([[  1],\n",
       "        [  1],\n",
       "        [  1],\n",
       "        ...,\n",
       "        [120],\n",
       "        [120],\n",
       "        [120]], dtype=uint8)}"
      ]
     },
     "execution_count": 3,
     "metadata": {},
     "output_type": "execute_result"
    }
   ],
   "source": [
    "data_label[0]"
   ]
  },
  {
   "cell_type": "code",
   "execution_count": 4,
   "metadata": {},
   "outputs": [
    {
     "data": {
      "text/plain": [
       "array([[array(['n02085620-Chihuahua/n02085620_2650.jpg'], dtype='<U38')],\n",
       "       [array(['n02085620-Chihuahua/n02085620_4919.jpg'], dtype='<U38')],\n",
       "       [array(['n02085620-Chihuahua/n02085620_1765.jpg'], dtype='<U38')],\n",
       "       ...,\n",
       "       [array(['n02116738-African_hunting_dog/n02116738_3635.jpg'], dtype='<U48')],\n",
       "       [array(['n02116738-African_hunting_dog/n02116738_2988.jpg'], dtype='<U48')],\n",
       "       [array(['n02116738-African_hunting_dog/n02116738_6330.jpg'], dtype='<U48')]],\n",
       "      dtype=object)"
      ]
     },
     "execution_count": 4,
     "metadata": {},
     "output_type": "execute_result"
    }
   ],
   "source": [
    "data_label[0]['file_list']"
   ]
  },
  {
   "cell_type": "code",
   "execution_count": 5,
   "metadata": {},
   "outputs": [
    {
     "data": {
      "text/plain": [
       "(8580, 1)"
      ]
     },
     "execution_count": 5,
     "metadata": {},
     "output_type": "execute_result"
    }
   ],
   "source": [
    "np.shape(data_label[0]['file_list'])"
   ]
  },
  {
   "cell_type": "code",
   "execution_count": 6,
   "metadata": {},
   "outputs": [
    {
     "data": {
      "text/plain": [
       "array([[  1],\n",
       "       [  1],\n",
       "       [  1],\n",
       "       ...,\n",
       "       [120],\n",
       "       [120],\n",
       "       [120]], dtype=uint8)"
      ]
     },
     "execution_count": 6,
     "metadata": {},
     "output_type": "execute_result"
    }
   ],
   "source": [
    "data_label[0]['labels']"
   ]
  },
  {
   "cell_type": "code",
   "execution_count": 7,
   "metadata": {},
   "outputs": [
    {
     "data": {
      "text/plain": [
       "(8580, 1)"
      ]
     },
     "execution_count": 7,
     "metadata": {},
     "output_type": "execute_result"
    }
   ],
   "source": [
    "np.shape(data_label[0]['labels'])"
   ]
  },
  {
   "cell_type": "code",
   "execution_count": 8,
   "metadata": {},
   "outputs": [
    {
     "data": {
      "text/plain": [
       "array([[array(['n02085620-Chihuahua/n02085620_2650'], dtype='<U34')],\n",
       "       [array(['n02085620-Chihuahua/n02085620_4919'], dtype='<U34')],\n",
       "       [array(['n02085620-Chihuahua/n02085620_1765'], dtype='<U34')],\n",
       "       ...,\n",
       "       [array(['n02116738-African_hunting_dog/n02116738_3635'], dtype='<U44')],\n",
       "       [array(['n02116738-African_hunting_dog/n02116738_2988'], dtype='<U44')],\n",
       "       [array(['n02116738-African_hunting_dog/n02116738_6330'], dtype='<U44')]],\n",
       "      dtype=object)"
      ]
     },
     "execution_count": 8,
     "metadata": {},
     "output_type": "execute_result"
    }
   ],
   "source": [
    "data_label[0]['annotation_list']"
   ]
  },
  {
   "cell_type": "code",
   "execution_count": 9,
   "metadata": {},
   "outputs": [],
   "source": [
    "import pandas as pd"
   ]
  },
  {
   "cell_type": "code",
   "execution_count": 53,
   "metadata": {},
   "outputs": [],
   "source": [
    "list_of_tuples = list(zip( data_label[0]['labels'], data_label[0]['file_list'], data_label[0]['annotation_list'])) \n",
    "data_test = pd.DataFrame(list_of_tuples,columns = ['labels', 'file_list','annotation_list' ])\n",
    "list_of_tuples = list(zip( data_label[1]['labels'], data_label[1]['file_list'], data_label[1]['annotation_list'])) \n",
    "data_file = pd.DataFrame(list_of_tuples,columns = ['labels', 'file_list','annotation_list' ])\n",
    "list_of_tuples = list(zip( data_label[2]['labels'], data_label[2]['file_list'], data_label[2]['annotation_list'])) \n",
    "data_train = pd.DataFrame(list_of_tuples,columns = ['labels', 'file_list','annotation_list' ])"
   ]
  },
  {
   "cell_type": "code",
   "execution_count": 54,
   "metadata": {},
   "outputs": [
    {
     "data": {
      "text/html": [
       "<div>\n",
       "<style scoped>\n",
       "    .dataframe tbody tr th:only-of-type {\n",
       "        vertical-align: middle;\n",
       "    }\n",
       "\n",
       "    .dataframe tbody tr th {\n",
       "        vertical-align: top;\n",
       "    }\n",
       "\n",
       "    .dataframe thead th {\n",
       "        text-align: right;\n",
       "    }\n",
       "</style>\n",
       "<table border=\"1\" class=\"dataframe\">\n",
       "  <thead>\n",
       "    <tr style=\"text-align: right;\">\n",
       "      <th></th>\n",
       "      <th>labels</th>\n",
       "      <th>file_list</th>\n",
       "      <th>annotation_list</th>\n",
       "    </tr>\n",
       "  </thead>\n",
       "  <tbody>\n",
       "    <tr>\n",
       "      <th>0</th>\n",
       "      <td>[1]</td>\n",
       "      <td>[[n02085620-Chihuahua/n02085620_10074.jpg]]</td>\n",
       "      <td>[[n02085620-Chihuahua/n02085620_10074]]</td>\n",
       "    </tr>\n",
       "    <tr>\n",
       "      <th>1</th>\n",
       "      <td>[1]</td>\n",
       "      <td>[[n02085620-Chihuahua/n02085620_10131.jpg]]</td>\n",
       "      <td>[[n02085620-Chihuahua/n02085620_10131]]</td>\n",
       "    </tr>\n",
       "    <tr>\n",
       "      <th>2</th>\n",
       "      <td>[1]</td>\n",
       "      <td>[[n02085620-Chihuahua/n02085620_10621.jpg]]</td>\n",
       "      <td>[[n02085620-Chihuahua/n02085620_10621]]</td>\n",
       "    </tr>\n",
       "    <tr>\n",
       "      <th>3</th>\n",
       "      <td>[1]</td>\n",
       "      <td>[[n02085620-Chihuahua/n02085620_1073.jpg]]</td>\n",
       "      <td>[[n02085620-Chihuahua/n02085620_1073]]</td>\n",
       "    </tr>\n",
       "    <tr>\n",
       "      <th>4</th>\n",
       "      <td>[1]</td>\n",
       "      <td>[[n02085620-Chihuahua/n02085620_10976.jpg]]</td>\n",
       "      <td>[[n02085620-Chihuahua/n02085620_10976]]</td>\n",
       "    </tr>\n",
       "  </tbody>\n",
       "</table>\n",
       "</div>"
      ],
      "text/plain": [
       "  labels                                    file_list  \\\n",
       "0    [1]  [[n02085620-Chihuahua/n02085620_10074.jpg]]   \n",
       "1    [1]  [[n02085620-Chihuahua/n02085620_10131.jpg]]   \n",
       "2    [1]  [[n02085620-Chihuahua/n02085620_10621.jpg]]   \n",
       "3    [1]   [[n02085620-Chihuahua/n02085620_1073.jpg]]   \n",
       "4    [1]  [[n02085620-Chihuahua/n02085620_10976.jpg]]   \n",
       "\n",
       "                           annotation_list  \n",
       "0  [[n02085620-Chihuahua/n02085620_10074]]  \n",
       "1  [[n02085620-Chihuahua/n02085620_10131]]  \n",
       "2  [[n02085620-Chihuahua/n02085620_10621]]  \n",
       "3   [[n02085620-Chihuahua/n02085620_1073]]  \n",
       "4  [[n02085620-Chihuahua/n02085620_10976]]  "
      ]
     },
     "execution_count": 54,
     "metadata": {},
     "output_type": "execute_result"
    }
   ],
   "source": [
    "data_file.head()"
   ]
  },
  {
   "cell_type": "code",
   "execution_count": 55,
   "metadata": {},
   "outputs": [
    {
     "data": {
      "text/html": [
       "<div>\n",
       "<style scoped>\n",
       "    .dataframe tbody tr th:only-of-type {\n",
       "        vertical-align: middle;\n",
       "    }\n",
       "\n",
       "    .dataframe tbody tr th {\n",
       "        vertical-align: top;\n",
       "    }\n",
       "\n",
       "    .dataframe thead th {\n",
       "        text-align: right;\n",
       "    }\n",
       "</style>\n",
       "<table border=\"1\" class=\"dataframe\">\n",
       "  <thead>\n",
       "    <tr style=\"text-align: right;\">\n",
       "      <th></th>\n",
       "      <th>labels</th>\n",
       "      <th>file_list</th>\n",
       "      <th>annotation_list</th>\n",
       "    </tr>\n",
       "  </thead>\n",
       "  <tbody>\n",
       "    <tr>\n",
       "      <th>0</th>\n",
       "      <td>[1]</td>\n",
       "      <td>[[n02085620-Chihuahua/n02085620_2650.jpg]]</td>\n",
       "      <td>[[n02085620-Chihuahua/n02085620_2650]]</td>\n",
       "    </tr>\n",
       "    <tr>\n",
       "      <th>1</th>\n",
       "      <td>[1]</td>\n",
       "      <td>[[n02085620-Chihuahua/n02085620_4919.jpg]]</td>\n",
       "      <td>[[n02085620-Chihuahua/n02085620_4919]]</td>\n",
       "    </tr>\n",
       "    <tr>\n",
       "      <th>2</th>\n",
       "      <td>[1]</td>\n",
       "      <td>[[n02085620-Chihuahua/n02085620_1765.jpg]]</td>\n",
       "      <td>[[n02085620-Chihuahua/n02085620_1765]]</td>\n",
       "    </tr>\n",
       "    <tr>\n",
       "      <th>3</th>\n",
       "      <td>[1]</td>\n",
       "      <td>[[n02085620-Chihuahua/n02085620_3006.jpg]]</td>\n",
       "      <td>[[n02085620-Chihuahua/n02085620_3006]]</td>\n",
       "    </tr>\n",
       "    <tr>\n",
       "      <th>4</th>\n",
       "      <td>[1]</td>\n",
       "      <td>[[n02085620-Chihuahua/n02085620_1492.jpg]]</td>\n",
       "      <td>[[n02085620-Chihuahua/n02085620_1492]]</td>\n",
       "    </tr>\n",
       "  </tbody>\n",
       "</table>\n",
       "</div>"
      ],
      "text/plain": [
       "  labels                                   file_list  \\\n",
       "0    [1]  [[n02085620-Chihuahua/n02085620_2650.jpg]]   \n",
       "1    [1]  [[n02085620-Chihuahua/n02085620_4919.jpg]]   \n",
       "2    [1]  [[n02085620-Chihuahua/n02085620_1765.jpg]]   \n",
       "3    [1]  [[n02085620-Chihuahua/n02085620_3006.jpg]]   \n",
       "4    [1]  [[n02085620-Chihuahua/n02085620_1492.jpg]]   \n",
       "\n",
       "                          annotation_list  \n",
       "0  [[n02085620-Chihuahua/n02085620_2650]]  \n",
       "1  [[n02085620-Chihuahua/n02085620_4919]]  \n",
       "2  [[n02085620-Chihuahua/n02085620_1765]]  \n",
       "3  [[n02085620-Chihuahua/n02085620_3006]]  \n",
       "4  [[n02085620-Chihuahua/n02085620_1492]]  "
      ]
     },
     "execution_count": 55,
     "metadata": {},
     "output_type": "execute_result"
    }
   ],
   "source": [
    "data_test.head()"
   ]
  },
  {
   "cell_type": "code",
   "execution_count": 56,
   "metadata": {},
   "outputs": [
    {
     "data": {
      "text/html": [
       "<div>\n",
       "<style scoped>\n",
       "    .dataframe tbody tr th:only-of-type {\n",
       "        vertical-align: middle;\n",
       "    }\n",
       "\n",
       "    .dataframe tbody tr th {\n",
       "        vertical-align: top;\n",
       "    }\n",
       "\n",
       "    .dataframe thead th {\n",
       "        text-align: right;\n",
       "    }\n",
       "</style>\n",
       "<table border=\"1\" class=\"dataframe\">\n",
       "  <thead>\n",
       "    <tr style=\"text-align: right;\">\n",
       "      <th></th>\n",
       "      <th>labels</th>\n",
       "      <th>file_list</th>\n",
       "      <th>annotation_list</th>\n",
       "    </tr>\n",
       "  </thead>\n",
       "  <tbody>\n",
       "    <tr>\n",
       "      <th>0</th>\n",
       "      <td>[1]</td>\n",
       "      <td>[[n02085620-Chihuahua/n02085620_5927.jpg]]</td>\n",
       "      <td>[[n02085620-Chihuahua/n02085620_5927]]</td>\n",
       "    </tr>\n",
       "    <tr>\n",
       "      <th>1</th>\n",
       "      <td>[1]</td>\n",
       "      <td>[[n02085620-Chihuahua/n02085620_4441.jpg]]</td>\n",
       "      <td>[[n02085620-Chihuahua/n02085620_4441]]</td>\n",
       "    </tr>\n",
       "    <tr>\n",
       "      <th>2</th>\n",
       "      <td>[1]</td>\n",
       "      <td>[[n02085620-Chihuahua/n02085620_1502.jpg]]</td>\n",
       "      <td>[[n02085620-Chihuahua/n02085620_1502]]</td>\n",
       "    </tr>\n",
       "    <tr>\n",
       "      <th>3</th>\n",
       "      <td>[1]</td>\n",
       "      <td>[[n02085620-Chihuahua/n02085620_1916.jpg]]</td>\n",
       "      <td>[[n02085620-Chihuahua/n02085620_1916]]</td>\n",
       "    </tr>\n",
       "    <tr>\n",
       "      <th>4</th>\n",
       "      <td>[1]</td>\n",
       "      <td>[[n02085620-Chihuahua/n02085620_13151.jpg]]</td>\n",
       "      <td>[[n02085620-Chihuahua/n02085620_13151]]</td>\n",
       "    </tr>\n",
       "  </tbody>\n",
       "</table>\n",
       "</div>"
      ],
      "text/plain": [
       "  labels                                    file_list  \\\n",
       "0    [1]   [[n02085620-Chihuahua/n02085620_5927.jpg]]   \n",
       "1    [1]   [[n02085620-Chihuahua/n02085620_4441.jpg]]   \n",
       "2    [1]   [[n02085620-Chihuahua/n02085620_1502.jpg]]   \n",
       "3    [1]   [[n02085620-Chihuahua/n02085620_1916.jpg]]   \n",
       "4    [1]  [[n02085620-Chihuahua/n02085620_13151.jpg]]   \n",
       "\n",
       "                           annotation_list  \n",
       "0   [[n02085620-Chihuahua/n02085620_5927]]  \n",
       "1   [[n02085620-Chihuahua/n02085620_4441]]  \n",
       "2   [[n02085620-Chihuahua/n02085620_1502]]  \n",
       "3   [[n02085620-Chihuahua/n02085620_1916]]  \n",
       "4  [[n02085620-Chihuahua/n02085620_13151]]  "
      ]
     },
     "execution_count": 56,
     "metadata": {},
     "output_type": "execute_result"
    }
   ],
   "source": [
    "data_train.head()"
   ]
  },
  {
   "cell_type": "code",
   "execution_count": 57,
   "metadata": {},
   "outputs": [
    {
     "name": "stdout",
     "output_type": "stream",
     "text": [
      "Shape of file (20580, 3), train (12000, 3), test (8580, 3)\n"
     ]
    }
   ],
   "source": [
    "print('Shape of file {}, train {}, test {}'.format(data_file.shape,data_train.shape, data_test.shape))"
   ]
  },
  {
   "cell_type": "code",
   "execution_count": 60,
   "metadata": {},
   "outputs": [],
   "source": [
    "data_test_selected = data_test.sample(n = 3000, replace=False)"
   ]
  },
  {
   "cell_type": "code",
   "execution_count": 61,
   "metadata": {},
   "outputs": [
    {
     "data": {
      "text/html": [
       "<div>\n",
       "<style scoped>\n",
       "    .dataframe tbody tr th:only-of-type {\n",
       "        vertical-align: middle;\n",
       "    }\n",
       "\n",
       "    .dataframe tbody tr th {\n",
       "        vertical-align: top;\n",
       "    }\n",
       "\n",
       "    .dataframe thead th {\n",
       "        text-align: right;\n",
       "    }\n",
       "</style>\n",
       "<table border=\"1\" class=\"dataframe\">\n",
       "  <thead>\n",
       "    <tr style=\"text-align: right;\">\n",
       "      <th></th>\n",
       "      <th>labels</th>\n",
       "      <th>file_list</th>\n",
       "      <th>annotation_list</th>\n",
       "    </tr>\n",
       "  </thead>\n",
       "  <tbody>\n",
       "    <tr>\n",
       "      <th>7879</th>\n",
       "      <td>[109]</td>\n",
       "      <td>[[n02112137-chow/n02112137_6964.jpg]]</td>\n",
       "      <td>[[n02112137-chow/n02112137_6964]]</td>\n",
       "    </tr>\n",
       "    <tr>\n",
       "      <th>5537</th>\n",
       "      <td>[77]</td>\n",
       "      <td>[[n02105412-kelpie/n02105412_5138.jpg]]</td>\n",
       "      <td>[[n02105412-kelpie/n02105412_5138]]</td>\n",
       "    </tr>\n",
       "    <tr>\n",
       "      <th>4526</th>\n",
       "      <td>[58]</td>\n",
       "      <td>[[n02099712-Labrador_retriever/n02099712_4177....</td>\n",
       "      <td>[[n02099712-Labrador_retriever/n02099712_4177]]</td>\n",
       "    </tr>\n",
       "    <tr>\n",
       "      <th>4301</th>\n",
       "      <td>[54]</td>\n",
       "      <td>[[n02098413-Lhasa/n02098413_6535.jpg]]</td>\n",
       "      <td>[[n02098413-Lhasa/n02098413_6535]]</td>\n",
       "    </tr>\n",
       "    <tr>\n",
       "      <th>8415</th>\n",
       "      <td>[118]</td>\n",
       "      <td>[[n02115641-dingo/n02115641_10506.jpg]]</td>\n",
       "      <td>[[n02115641-dingo/n02115641_10506]]</td>\n",
       "    </tr>\n",
       "  </tbody>\n",
       "</table>\n",
       "</div>"
      ],
      "text/plain": [
       "     labels                                          file_list  \\\n",
       "7879  [109]              [[n02112137-chow/n02112137_6964.jpg]]   \n",
       "5537   [77]            [[n02105412-kelpie/n02105412_5138.jpg]]   \n",
       "4526   [58]  [[n02099712-Labrador_retriever/n02099712_4177....   \n",
       "4301   [54]             [[n02098413-Lhasa/n02098413_6535.jpg]]   \n",
       "8415  [118]            [[n02115641-dingo/n02115641_10506.jpg]]   \n",
       "\n",
       "                                      annotation_list  \n",
       "7879                [[n02112137-chow/n02112137_6964]]  \n",
       "5537              [[n02105412-kelpie/n02105412_5138]]  \n",
       "4526  [[n02099712-Labrador_retriever/n02099712_4177]]  \n",
       "4301               [[n02098413-Lhasa/n02098413_6535]]  \n",
       "8415              [[n02115641-dingo/n02115641_10506]]  "
      ]
     },
     "execution_count": 61,
     "metadata": {},
     "output_type": "execute_result"
    }
   ],
   "source": [
    "data_test_selected.head()"
   ]
  },
  {
   "cell_type": "code",
   "execution_count": 67,
   "metadata": {},
   "outputs": [
    {
     "ename": "TypeError",
     "evalue": "'numpy.ndarray' object is not callable",
     "output_type": "error",
     "traceback": [
      "\u001b[0;31m---------------------------------------------------------------------------\u001b[0m",
      "\u001b[0;31mTypeError\u001b[0m                                 Traceback (most recent call last)",
      "\u001b[0;32m<ipython-input-67-04ebfb2d36b3>\u001b[0m in \u001b[0;36m<module>\u001b[0;34m\u001b[0m\n\u001b[1;32m      2\u001b[0m \u001b[0mcv_img\u001b[0m \u001b[0;34m=\u001b[0m \u001b[0;34m[\u001b[0m\u001b[0;34m]\u001b[0m\u001b[0;34m\u001b[0m\u001b[0;34m\u001b[0m\u001b[0m\n\u001b[1;32m      3\u001b[0m \u001b[0mroot\u001b[0m \u001b[0;34m=\u001b[0m \u001b[0;34m'./Images/'\u001b[0m\u001b[0;34m\u001b[0m\u001b[0;34m\u001b[0m\u001b[0m\n\u001b[0;32m----> 4\u001b[0;31m \u001b[0;32mfor\u001b[0m \u001b[0mi\u001b[0m\u001b[0;34m[\u001b[0m\u001b[0;36m0\u001b[0m\u001b[0;34m]\u001b[0m \u001b[0;32min\u001b[0m \u001b[0mdata_test_selected\u001b[0m\u001b[0;34m[\u001b[0m\u001b[0;34m'file_list'\u001b[0m\u001b[0;34m]\u001b[0m\u001b[0;34m.\u001b[0m\u001b[0mvalues\u001b[0m\u001b[0;34m(\u001b[0m\u001b[0;34m)\u001b[0m\u001b[0;34m:\u001b[0m\u001b[0;34m\u001b[0m\u001b[0;34m\u001b[0m\u001b[0m\n\u001b[0m\u001b[1;32m      5\u001b[0m     \u001b[0mprint\u001b[0m\u001b[0;34m(\u001b[0m\u001b[0mi\u001b[0m\u001b[0;34m)\u001b[0m\u001b[0;34m\u001b[0m\u001b[0;34m\u001b[0m\u001b[0m\n\u001b[1;32m      6\u001b[0m     \u001b[0;32mbreak\u001b[0m\u001b[0;34m\u001b[0m\u001b[0;34m\u001b[0m\u001b[0m\n",
      "\u001b[0;31mTypeError\u001b[0m: 'numpy.ndarray' object is not callable"
     ]
    }
   ],
   "source": [
    "val=[]\n",
    "cv_img = []\n",
    "root = './Images/'\n",
    "for i[0] in data_test_selected['file_list'].values():\n",
    "    print(i)\n",
    "    break\n",
    "    '''img = glob.glob(os.path.join(root, '*.npy')):\n",
    "    h,t = os.path.split(img)\n",
    "    i = re.findall('\\d+', h)    \n",
    "    i = int(i[0])\n",
    "    val.append(i)\n",
    "    n = cv2.imread(img,0)\n",
    "    image = cv2.resize(n, (128, 128))\n",
    "    image = image - np.mean(image)\n",
    "    image = image/np.max(image)'''"
   ]
  },
  {
   "cell_type": "code",
   "execution_count": 65,
   "metadata": {},
   "outputs": [
    {
     "ename": "TypeError",
     "evalue": "'numpy.ndarray' object is not callable",
     "output_type": "error",
     "traceback": [
      "\u001b[0;31m---------------------------------------------------------------------------\u001b[0m",
      "\u001b[0;31mTypeError\u001b[0m                                 Traceback (most recent call last)",
      "\u001b[0;32m<ipython-input-65-b26233db381e>\u001b[0m in \u001b[0;36m<module>\u001b[0;34m\u001b[0m\n\u001b[0;32m----> 1\u001b[0;31m \u001b[0mdata_test_selected\u001b[0m\u001b[0;34m[\u001b[0m\u001b[0;34m'file_list'\u001b[0m\u001b[0;34m]\u001b[0m\u001b[0;34m.\u001b[0m\u001b[0mvalues\u001b[0m\u001b[0;34m(\u001b[0m\u001b[0;34m)\u001b[0m\u001b[0;34m\u001b[0m\u001b[0;34m\u001b[0m\u001b[0m\n\u001b[0m",
      "\u001b[0;31mTypeError\u001b[0m: 'numpy.ndarray' object is not callable"
     ]
    }
   ],
   "source": [
    "data_test_selected['file_list'].values()"
   ]
  },
  {
   "cell_type": "code",
   "execution_count": null,
   "metadata": {},
   "outputs": [],
   "source": []
  }
 ],
 "metadata": {
  "kernelspec": {
   "display_name": "Python 3",
   "language": "python",
   "name": "python3"
  },
  "language_info": {
   "codemirror_mode": {
    "name": "ipython",
    "version": 3
   },
   "file_extension": ".py",
   "mimetype": "text/x-python",
   "name": "python",
   "nbconvert_exporter": "python",
   "pygments_lexer": "ipython3",
   "version": "3.6.8"
  }
 },
 "nbformat": 4,
 "nbformat_minor": 2
}
